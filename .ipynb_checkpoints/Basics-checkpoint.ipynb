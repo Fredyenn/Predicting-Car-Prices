{
 "cells": [
  {
   "cell_type": "markdown",
   "metadata": {
    "collapsed": true
   },
   "source": [
    "# Predicting Car Prices\n",
    "\n",
    "The purpose of this project is to implement the machine learning workflow to pridict the car price based on training car market's data set. \n",
    "\n",
    "KNN is used for this project and features like motor's displacement, the weight of the car, the miles per gallon. We will experiment on various feature selection and hyperparameter tuning.\n",
    "\n",
    "Data can be download directly [here](https://archive.ics.uci.edu/ml/machine-learning-databases/autos/imports-85.data). Attribute information can be found [here](https://archive.ics.uci.edu/ml/datasets/automobile):\n",
    "\n",
    "Attribute Information:\n",
    "Attribute: Attribute Range\n",
    "\n",
    "1. symboling: -3, -2, -1, 0, 1, 2, 3.\n",
    "2. normalized-losses: continuous from 65 to 256.\n",
    "3. make: alfa-romero, audi, bmw, chevrolet, dodge, honda, isuzu, jaguar, mazda, mercedes-benz, mercury, mitsubishi, nissan, peugot, plymouth, porsche, renault, saab, subaru, toyota, volkswagen, volvo\n",
    "\n",
    "4. fuel-type: diesel, gas.\n",
    "5. aspiration: std, turbo.\n",
    "6. num-of-doors: four, two.\n",
    "7. body-style: hardtop, wagon, sedan, hatchback, convertible.\n",
    "8. drive-wheels: 4wd, fwd, rwd.\n",
    "9. engine-location: front, rear.\n",
    "10. wheel-base: continuous from 86.6 120.9.\n",
    "11. length: continuous from 141.1 to 208.1.\n",
    "12. width: continuous from 60.3 to 72.3.\n",
    "13. height: continuous from 47.8 to 59.8.\n",
    "14. curb-weight: continuous from 1488 to 4066.\n",
    "15. engine-type: dohc, dohcv, l, ohc, ohcf, ohcv, rotor.\n",
    "16. num-of-cylinders: eight, five, four, six, three, twelve, two.\n",
    "17. engine-size: continuous from 61 to 326.\n",
    "18. fuel-system: 1bbl, 2bbl, 4bbl, idi, mfi, mpfi, spdi, spfi.\n",
    "19. bore: continuous from 2.54 to 3.94.\n",
    "20. stroke: continuous from 2.07 to 4.17.\n",
    "21. compression-ratio: continuous from 7 to 23.\n",
    "22. horsepower: continuous from 48 to 288.\n",
    "23. peak-rpm: continuous from 4150 to 6600.\n",
    "24. city-mpg: continuous from 13 to 49.\n",
    "25. highway-mpg: continuous from 16 to 54.\n",
    "26. price: continuous from 5118 to 45400.\n",
    "\n",
    "\n",
    "\n",
    "## Read the data and Data Cleaning"
   ]
  },
  {
   "cell_type": "code",
   "execution_count": 48,
   "metadata": {
    "collapsed": true
   },
   "outputs": [],
   "source": [
    "import pandas as pd\n",
    "import numpy as np\n",
    "cols = ['symboling', 'normalized-losses', 'make', 'fuel-type', 'aspiration', 'num-of-doors', 'body-style', \n",
    "        'drive-wheels', 'engine-location', 'wheel-base', 'length', 'width', 'height', 'curb-weight', 'engine-type', \n",
    "        'num-of-cylinders', 'engine-size', 'fuel-system', 'bore', 'stroke', 'compression-rate', 'horsepower', 'peak-rpm', 'city-mpg', 'highway-mpg', 'price']\n",
    "cars = pd.read_csv('imports-85.data', names=cols)"
   ]
  },
  {
   "cell_type": "code",
   "execution_count": 49,
   "metadata": {
    "collapsed": false
   },
   "outputs": [
    {
     "data": {
      "text/html": [
       "<div>\n",
       "<style scoped>\n",
       "    .dataframe tbody tr th:only-of-type {\n",
       "        vertical-align: middle;\n",
       "    }\n",
       "\n",
       "    .dataframe tbody tr th {\n",
       "        vertical-align: top;\n",
       "    }\n",
       "\n",
       "    .dataframe thead th {\n",
       "        text-align: right;\n",
       "    }\n",
       "</style>\n",
       "<table border=\"1\" class=\"dataframe\">\n",
       "  <thead>\n",
       "    <tr style=\"text-align: right;\">\n",
       "      <th></th>\n",
       "      <th>symboling</th>\n",
       "      <th>normalized-losses</th>\n",
       "      <th>make</th>\n",
       "      <th>fuel-type</th>\n",
       "      <th>aspiration</th>\n",
       "      <th>num-of-doors</th>\n",
       "      <th>body-style</th>\n",
       "      <th>drive-wheels</th>\n",
       "      <th>engine-location</th>\n",
       "      <th>wheel-base</th>\n",
       "      <th>...</th>\n",
       "      <th>engine-size</th>\n",
       "      <th>fuel-system</th>\n",
       "      <th>bore</th>\n",
       "      <th>stroke</th>\n",
       "      <th>compression-rate</th>\n",
       "      <th>horsepower</th>\n",
       "      <th>peak-rpm</th>\n",
       "      <th>city-mpg</th>\n",
       "      <th>highway-mpg</th>\n",
       "      <th>price</th>\n",
       "    </tr>\n",
       "  </thead>\n",
       "  <tbody>\n",
       "    <tr>\n",
       "      <th>0</th>\n",
       "      <td>3</td>\n",
       "      <td>?</td>\n",
       "      <td>alfa-romero</td>\n",
       "      <td>gas</td>\n",
       "      <td>std</td>\n",
       "      <td>two</td>\n",
       "      <td>convertible</td>\n",
       "      <td>rwd</td>\n",
       "      <td>front</td>\n",
       "      <td>88.6</td>\n",
       "      <td>...</td>\n",
       "      <td>130</td>\n",
       "      <td>mpfi</td>\n",
       "      <td>3.47</td>\n",
       "      <td>2.68</td>\n",
       "      <td>9.0</td>\n",
       "      <td>111</td>\n",
       "      <td>5000</td>\n",
       "      <td>21</td>\n",
       "      <td>27</td>\n",
       "      <td>13495</td>\n",
       "    </tr>\n",
       "    <tr>\n",
       "      <th>1</th>\n",
       "      <td>3</td>\n",
       "      <td>?</td>\n",
       "      <td>alfa-romero</td>\n",
       "      <td>gas</td>\n",
       "      <td>std</td>\n",
       "      <td>two</td>\n",
       "      <td>convertible</td>\n",
       "      <td>rwd</td>\n",
       "      <td>front</td>\n",
       "      <td>88.6</td>\n",
       "      <td>...</td>\n",
       "      <td>130</td>\n",
       "      <td>mpfi</td>\n",
       "      <td>3.47</td>\n",
       "      <td>2.68</td>\n",
       "      <td>9.0</td>\n",
       "      <td>111</td>\n",
       "      <td>5000</td>\n",
       "      <td>21</td>\n",
       "      <td>27</td>\n",
       "      <td>16500</td>\n",
       "    </tr>\n",
       "    <tr>\n",
       "      <th>2</th>\n",
       "      <td>1</td>\n",
       "      <td>?</td>\n",
       "      <td>alfa-romero</td>\n",
       "      <td>gas</td>\n",
       "      <td>std</td>\n",
       "      <td>two</td>\n",
       "      <td>hatchback</td>\n",
       "      <td>rwd</td>\n",
       "      <td>front</td>\n",
       "      <td>94.5</td>\n",
       "      <td>...</td>\n",
       "      <td>152</td>\n",
       "      <td>mpfi</td>\n",
       "      <td>2.68</td>\n",
       "      <td>3.47</td>\n",
       "      <td>9.0</td>\n",
       "      <td>154</td>\n",
       "      <td>5000</td>\n",
       "      <td>19</td>\n",
       "      <td>26</td>\n",
       "      <td>16500</td>\n",
       "    </tr>\n",
       "    <tr>\n",
       "      <th>3</th>\n",
       "      <td>2</td>\n",
       "      <td>164</td>\n",
       "      <td>audi</td>\n",
       "      <td>gas</td>\n",
       "      <td>std</td>\n",
       "      <td>four</td>\n",
       "      <td>sedan</td>\n",
       "      <td>fwd</td>\n",
       "      <td>front</td>\n",
       "      <td>99.8</td>\n",
       "      <td>...</td>\n",
       "      <td>109</td>\n",
       "      <td>mpfi</td>\n",
       "      <td>3.19</td>\n",
       "      <td>3.40</td>\n",
       "      <td>10.0</td>\n",
       "      <td>102</td>\n",
       "      <td>5500</td>\n",
       "      <td>24</td>\n",
       "      <td>30</td>\n",
       "      <td>13950</td>\n",
       "    </tr>\n",
       "    <tr>\n",
       "      <th>4</th>\n",
       "      <td>2</td>\n",
       "      <td>164</td>\n",
       "      <td>audi</td>\n",
       "      <td>gas</td>\n",
       "      <td>std</td>\n",
       "      <td>four</td>\n",
       "      <td>sedan</td>\n",
       "      <td>4wd</td>\n",
       "      <td>front</td>\n",
       "      <td>99.4</td>\n",
       "      <td>...</td>\n",
       "      <td>136</td>\n",
       "      <td>mpfi</td>\n",
       "      <td>3.19</td>\n",
       "      <td>3.40</td>\n",
       "      <td>8.0</td>\n",
       "      <td>115</td>\n",
       "      <td>5500</td>\n",
       "      <td>18</td>\n",
       "      <td>22</td>\n",
       "      <td>17450</td>\n",
       "    </tr>\n",
       "  </tbody>\n",
       "</table>\n",
       "<p>5 rows × 26 columns</p>\n",
       "</div>"
      ],
      "text/plain": [
       "   symboling normalized-losses         make fuel-type aspiration num-of-doors  \\\n",
       "0          3                 ?  alfa-romero       gas        std          two   \n",
       "1          3                 ?  alfa-romero       gas        std          two   \n",
       "2          1                 ?  alfa-romero       gas        std          two   \n",
       "3          2               164         audi       gas        std         four   \n",
       "4          2               164         audi       gas        std         four   \n",
       "\n",
       "    body-style drive-wheels engine-location  wheel-base  ...    engine-size  \\\n",
       "0  convertible          rwd           front        88.6  ...            130   \n",
       "1  convertible          rwd           front        88.6  ...            130   \n",
       "2    hatchback          rwd           front        94.5  ...            152   \n",
       "3        sedan          fwd           front        99.8  ...            109   \n",
       "4        sedan          4wd           front        99.4  ...            136   \n",
       "\n",
       "   fuel-system  bore  stroke compression-rate horsepower  peak-rpm city-mpg  \\\n",
       "0         mpfi  3.47    2.68              9.0        111      5000       21   \n",
       "1         mpfi  3.47    2.68              9.0        111      5000       21   \n",
       "2         mpfi  2.68    3.47              9.0        154      5000       19   \n",
       "3         mpfi  3.19    3.40             10.0        102      5500       24   \n",
       "4         mpfi  3.19    3.40              8.0        115      5500       18   \n",
       "\n",
       "  highway-mpg  price  \n",
       "0          27  13495  \n",
       "1          27  16500  \n",
       "2          26  16500  \n",
       "3          30  13950  \n",
       "4          22  17450  \n",
       "\n",
       "[5 rows x 26 columns]"
      ]
     },
     "execution_count": 49,
     "metadata": {},
     "output_type": "execute_result"
    }
   ],
   "source": [
    "cars.head()"
   ]
  },
  {
   "cell_type": "code",
   "execution_count": 50,
   "metadata": {
    "collapsed": true
   },
   "outputs": [],
   "source": [
    "# Select only the columns with continuous values from - https://archive.ics.uci.edu/ml/machine-learning-databases/autos/imports-85.names\n",
    "continuous_values_cols = ['normalized-losses', 'wheel-base', 'length', 'width', 'height', 'curb-weight', 'bore', 'stroke', 'compression-rate', 'horsepower', 'peak-rpm', 'city-mpg', 'highway-mpg', 'price']\n",
    "numeric_cars = cars[continuous_values_cols]"
   ]
  },
  {
   "cell_type": "code",
   "execution_count": 51,
   "metadata": {
    "collapsed": false
   },
   "outputs": [
    {
     "data": {
      "text/html": [
       "<div>\n",
       "<style scoped>\n",
       "    .dataframe tbody tr th:only-of-type {\n",
       "        vertical-align: middle;\n",
       "    }\n",
       "\n",
       "    .dataframe tbody tr th {\n",
       "        vertical-align: top;\n",
       "    }\n",
       "\n",
       "    .dataframe thead th {\n",
       "        text-align: right;\n",
       "    }\n",
       "</style>\n",
       "<table border=\"1\" class=\"dataframe\">\n",
       "  <thead>\n",
       "    <tr style=\"text-align: right;\">\n",
       "      <th></th>\n",
       "      <th>normalized-losses</th>\n",
       "      <th>wheel-base</th>\n",
       "      <th>length</th>\n",
       "      <th>width</th>\n",
       "      <th>height</th>\n",
       "      <th>curb-weight</th>\n",
       "      <th>bore</th>\n",
       "      <th>stroke</th>\n",
       "      <th>compression-rate</th>\n",
       "      <th>horsepower</th>\n",
       "      <th>peak-rpm</th>\n",
       "      <th>city-mpg</th>\n",
       "      <th>highway-mpg</th>\n",
       "      <th>price</th>\n",
       "    </tr>\n",
       "  </thead>\n",
       "  <tbody>\n",
       "    <tr>\n",
       "      <th>0</th>\n",
       "      <td>?</td>\n",
       "      <td>88.6</td>\n",
       "      <td>168.8</td>\n",
       "      <td>64.1</td>\n",
       "      <td>48.8</td>\n",
       "      <td>2548</td>\n",
       "      <td>3.47</td>\n",
       "      <td>2.68</td>\n",
       "      <td>9.0</td>\n",
       "      <td>111</td>\n",
       "      <td>5000</td>\n",
       "      <td>21</td>\n",
       "      <td>27</td>\n",
       "      <td>13495</td>\n",
       "    </tr>\n",
       "    <tr>\n",
       "      <th>1</th>\n",
       "      <td>?</td>\n",
       "      <td>88.6</td>\n",
       "      <td>168.8</td>\n",
       "      <td>64.1</td>\n",
       "      <td>48.8</td>\n",
       "      <td>2548</td>\n",
       "      <td>3.47</td>\n",
       "      <td>2.68</td>\n",
       "      <td>9.0</td>\n",
       "      <td>111</td>\n",
       "      <td>5000</td>\n",
       "      <td>21</td>\n",
       "      <td>27</td>\n",
       "      <td>16500</td>\n",
       "    </tr>\n",
       "    <tr>\n",
       "      <th>2</th>\n",
       "      <td>?</td>\n",
       "      <td>94.5</td>\n",
       "      <td>171.2</td>\n",
       "      <td>65.5</td>\n",
       "      <td>52.4</td>\n",
       "      <td>2823</td>\n",
       "      <td>2.68</td>\n",
       "      <td>3.47</td>\n",
       "      <td>9.0</td>\n",
       "      <td>154</td>\n",
       "      <td>5000</td>\n",
       "      <td>19</td>\n",
       "      <td>26</td>\n",
       "      <td>16500</td>\n",
       "    </tr>\n",
       "    <tr>\n",
       "      <th>3</th>\n",
       "      <td>164</td>\n",
       "      <td>99.8</td>\n",
       "      <td>176.6</td>\n",
       "      <td>66.2</td>\n",
       "      <td>54.3</td>\n",
       "      <td>2337</td>\n",
       "      <td>3.19</td>\n",
       "      <td>3.40</td>\n",
       "      <td>10.0</td>\n",
       "      <td>102</td>\n",
       "      <td>5500</td>\n",
       "      <td>24</td>\n",
       "      <td>30</td>\n",
       "      <td>13950</td>\n",
       "    </tr>\n",
       "    <tr>\n",
       "      <th>4</th>\n",
       "      <td>164</td>\n",
       "      <td>99.4</td>\n",
       "      <td>176.6</td>\n",
       "      <td>66.4</td>\n",
       "      <td>54.3</td>\n",
       "      <td>2824</td>\n",
       "      <td>3.19</td>\n",
       "      <td>3.40</td>\n",
       "      <td>8.0</td>\n",
       "      <td>115</td>\n",
       "      <td>5500</td>\n",
       "      <td>18</td>\n",
       "      <td>22</td>\n",
       "      <td>17450</td>\n",
       "    </tr>\n",
       "  </tbody>\n",
       "</table>\n",
       "</div>"
      ],
      "text/plain": [
       "  normalized-losses  wheel-base  length  width  height  curb-weight  bore  \\\n",
       "0                 ?        88.6   168.8   64.1    48.8         2548  3.47   \n",
       "1                 ?        88.6   168.8   64.1    48.8         2548  3.47   \n",
       "2                 ?        94.5   171.2   65.5    52.4         2823  2.68   \n",
       "3               164        99.8   176.6   66.2    54.3         2337  3.19   \n",
       "4               164        99.4   176.6   66.4    54.3         2824  3.19   \n",
       "\n",
       "  stroke  compression-rate horsepower peak-rpm  city-mpg  highway-mpg  price  \n",
       "0   2.68               9.0        111     5000        21           27  13495  \n",
       "1   2.68               9.0        111     5000        21           27  16500  \n",
       "2   3.47               9.0        154     5000        19           26  16500  \n",
       "3   3.40              10.0        102     5500        24           30  13950  \n",
       "4   3.40               8.0        115     5500        18           22  17450  "
      ]
     },
     "execution_count": 51,
     "metadata": {},
     "output_type": "execute_result"
    }
   ],
   "source": [
    "numeric_cars.head(5)\n"
   ]
  },
  {
   "cell_type": "code",
   "execution_count": 52,
   "metadata": {
    "collapsed": false
   },
   "outputs": [
    {
     "data": {
      "text/plain": [
       "normalized-losses    41\n",
       "wheel-base            0\n",
       "length                0\n",
       "width                 0\n",
       "height                0\n",
       "curb-weight           0\n",
       "bore                  4\n",
       "stroke                4\n",
       "compression-rate      0\n",
       "horsepower            2\n",
       "peak-rpm              2\n",
       "city-mpg              0\n",
       "highway-mpg           0\n",
       "price                 4\n",
       "dtype: int64"
      ]
     },
     "execution_count": 52,
     "metadata": {},
     "output_type": "execute_result"
    }
   ],
   "source": [
    "numeric_cars = numeric_cars.replace('?', np.nan)\n",
    "numeric_cars = numeric_cars.astype('float')\n",
    "numeric_cars.isnull().sum()"
   ]
  },
  {
   "cell_type": "code",
   "execution_count": 53,
   "metadata": {
    "collapsed": false
   },
   "outputs": [
    {
     "data": {
      "text/plain": [
       "normalized-losses    37\n",
       "wheel-base            0\n",
       "length                0\n",
       "width                 0\n",
       "height                0\n",
       "curb-weight           0\n",
       "bore                  4\n",
       "stroke                4\n",
       "compression-rate      0\n",
       "horsepower            2\n",
       "peak-rpm              2\n",
       "city-mpg              0\n",
       "highway-mpg           0\n",
       "price                 0\n",
       "dtype: int64"
      ]
     },
     "execution_count": 53,
     "metadata": {},
     "output_type": "execute_result"
    }
   ],
   "source": [
    "#Because `price` is the column we want to predict, let's remove any rows with missing `price` values.\n",
    "numeric_cars = numeric_cars.dropna(subset=['price'])\n",
    "numeric_cars.isnull().sum()"
   ]
  },
  {
   "cell_type": "code",
   "execution_count": 54,
   "metadata": {
    "collapsed": true
   },
   "outputs": [],
   "source": [
    "# Replace missing values in other columns using column means.\n",
    "numeric_cars = numeric_cars.fillna(numeric_cars.mean())"
   ]
  },
  {
   "cell_type": "code",
   "execution_count": 55,
   "metadata": {
    "collapsed": false
   },
   "outputs": [
    {
     "data": {
      "text/plain": [
       "0"
      ]
     },
     "execution_count": 55,
     "metadata": {},
     "output_type": "execute_result"
    }
   ],
   "source": [
    "# Confirm that there's no more missing values!\n",
    "numeric_cars.isnull().any().sum()"
   ]
  },
  {
   "cell_type": "markdown",
   "metadata": {},
   "source": [
    "## Training on a Single Feature"
   ]
  },
  {
   "cell_type": "code",
   "execution_count": 112,
   "metadata": {
    "collapsed": false
   },
   "outputs": [
    {
     "name": "stderr",
     "output_type": "stream",
     "text": [
      "/dataquest/system/env/python3/lib/python3.4/site-packages/ipykernel/__main__.py:25: FutureWarning: reshape is deprecated and will raise in a subsequent release. Please use .values.reshape(...) instead\n"
     ]
    },
    {
     "data": {
      "text/plain": [
       "horsepower           4041.565230\n",
       "curb-weight          4555.233768\n",
       "city-mpg             4685.114879\n",
       "highway-mpg          4813.435190\n",
       "width                4851.167666\n",
       "length               5643.176867\n",
       "wheel-base           6292.952697\n",
       "compression-rate     7033.108313\n",
       "bore                 7635.869834\n",
       "stroke               7668.334234\n",
       "peak-rpm             7775.466980\n",
       "normalized-losses    7922.580365\n",
       "height               8256.510785\n",
       "dtype: float64"
      ]
     },
     "execution_count": 112,
     "metadata": {},
     "output_type": "execute_result"
    }
   ],
   "source": [
    "from sklearn.neighbors import KNeighborsRegressor\n",
    "from sklearn.metrics import mean_squared_error\n",
    "from sklearn.model_selection import train_test_split\n",
    "from sklearn.preprocessing import normalize\n",
    "\n",
    "def knn_train (X_train,y_train,X_test,y_test):\n",
    "    knn = KNeighborsRegressor()\n",
    "    knn.fit(X_train,y_train)\n",
    "    prediction = knn.predict(X_test)\n",
    "    mse = mean_squared_error(y_test, prediction)\n",
    "    return np.sqrt(mse)\n",
    "\n",
    "# Normalize data\n",
    "numeric_cars_nomalized = pd.DataFrame(normalize(numeric_cars,axis = 0,norm ='l2'),columns=numeric_cars.columns)\n",
    "#Set input data X and target variable y\n",
    "train_cols = numeric_cars.drop('price',1)\n",
    "X = pd.DataFrame(normalize(train_cols,axis = 0,norm ='l1'),columns=train_cols.columns)\n",
    "y = numeric_cars['price']\n",
    "\n",
    "# Train test split\n",
    "X_train, X_test, y_train, y_test = train_test_split(X, y, test_size=0.5, random_state=42)\n",
    "\n",
    "rmse_results={}\n",
    "# Iterate through each feature\n",
    "# Use one feature at a time to train the model\n",
    "for name, col  in train_cols_normalized.iteritems():\n",
    "    rmse_results[name] = knn_train(X_train[name].reshape(len(X_train[name]),1),y_train,X_test[name].reshape(len(X_test[name]),1),y_test)\n",
    "\n",
    "# Create a Series object from the dictionary so \n",
    "# we can easily view the results, sort, etc    \n",
    "rmse_results_series = pd.Series(rmse_results)\n",
    "rmse_results_series.sort_values()"
   ]
  },
  {
   "cell_type": "markdown",
   "metadata": {},
   "source": [
    "## Test hyperparametets (K)"
   ]
  },
  {
   "cell_type": "code",
   "execution_count": 156,
   "metadata": {
    "collapsed": false
   },
   "outputs": [
    {
     "name": "stderr",
     "output_type": "stream",
     "text": [
      "/dataquest/system/env/python3/lib/python3.4/site-packages/ipykernel/__main__.py:29: FutureWarning:\n",
      "\n",
      "reshape is deprecated and will raise in a subsequent release. Please use .values.reshape(...) instead\n",
      "\n",
      "/dataquest/system/env/python3/lib/python3.4/site-packages/ipykernel/__main__.py:30: FutureWarning:\n",
      "\n",
      "reshape is deprecated and will raise in a subsequent release. Please use .values.reshape(...) instead\n",
      "\n"
     ]
    },
    {
     "data": {
      "text/plain": [
       "{'bore': {1: 7659.649095573944,\n",
       "  3: 7513.244987342286,\n",
       "  5: 7606.5790172809375,\n",
       "  7: 8088.667589024193,\n",
       "  9: 8027.91776913428},\n",
       " 'city-mpg': {1: 5760.944074859898,\n",
       "  3: 4769.821333829566,\n",
       "  5: 4681.65540050834,\n",
       "  7: 5062.90690001683,\n",
       "  9: 5245.449590448907},\n",
       " 'compression-rate': {1: 8685.012723646465,\n",
       "  3: 7049.770588688352,\n",
       "  5: 7218.491164137604,\n",
       "  7: 7818.556591299172,\n",
       "  9: 8235.375544228684},\n",
       " 'curb-weight': {1: 5562.593794514595,\n",
       "  3: 5049.271329538147,\n",
       "  5: 4525.651783133366,\n",
       "  7: 4879.474959809793,\n",
       "  9: 5038.427774424106},\n",
       " 'height': {1: 8773.936978854526,\n",
       "  3: 7901.714641248896,\n",
       "  5: 8179.396698297424,\n",
       "  7: 7949.027824725122,\n",
       "  9: 7965.150816319062},\n",
       " 'highway-mpg': {1: 6077.102039460898,\n",
       "  3: 5073.556803797917,\n",
       "  5: 4852.463219258589,\n",
       "  7: 4929.354638197686,\n",
       "  9: 5173.017017178381},\n",
       " 'horsepower': {1: 4533.727491843442,\n",
       "  3: 4145.141494955428,\n",
       "  5: 3982.765882008519,\n",
       "  7: 4609.349598386467,\n",
       "  9: 4935.038612744342},\n",
       " 'length': {1: 5269.944481831299,\n",
       "  3: 5313.729080756222,\n",
       "  5: 5644.069119714854,\n",
       "  7: 5851.824655951407,\n",
       "  9: 5965.264919286221},\n",
       " 'normalized-losses': {1: 8724.77032918516,\n",
       "  3: 7310.722531671784,\n",
       "  5: 7949.973092450884,\n",
       "  7: 8146.958946079505,\n",
       "  9: 7770.21144054829},\n",
       " 'peak-rpm': {1: 8333.30441453728,\n",
       "  3: 7882.3961598692895,\n",
       "  5: 7938.646210871608,\n",
       "  7: 8390.730983632164,\n",
       "  9: 8423.856331888952},\n",
       " 'stroke': {1: 7195.160766476698,\n",
       "  3: 7652.158806894992,\n",
       "  5: 7736.489974577145,\n",
       "  7: 8183.260137282651,\n",
       "  9: 8264.86150460975},\n",
       " 'wheel-base': {1: 6004.72551701187,\n",
       "  3: 6381.443801374342,\n",
       "  5: 6248.997840858125,\n",
       "  7: 6454.90770223186,\n",
       "  9: 6705.393416428817},\n",
       " 'width': {1: 4569.142959695901,\n",
       "  3: 4837.6094369953535,\n",
       "  5: 4986.937787563597,\n",
       "  7: 5168.7768356901515,\n",
       "  9: 5350.360180092251}}"
      ]
     },
     "execution_count": 156,
     "metadata": {},
     "output_type": "execute_result"
    }
   ],
   "source": [
    "def knn_train (X_train,y_train,X_test,y_test,k_values):\n",
    "    k_rmses = {}\n",
    "    \n",
    "    for k in k_values:\n",
    "        knn = KNeighborsRegressor(n_neighbors=k)\n",
    "        knn.fit(X_train,y_train)\n",
    "        prediction = knn.predict(X_test)\n",
    "        mse = mean_squared_error(y_test, prediction)\n",
    "        k_rmses[k] = np.sqrt(mse)\n",
    "    return k_rmses\n",
    "    \n",
    "\n",
    "# Normalize data\n",
    "numeric_cars_nomalized = pd.DataFrame(normalize(numeric_cars,axis = 0,norm ='l2'),columns=numeric_cars.columns)\n",
    "#Set input data X and target variable y\n",
    "train_cols = numeric_cars.drop('price',1)\n",
    "X = pd.DataFrame(normalize(train_cols,axis = 0,norm ='l2'),columns=train_cols.columns)\n",
    "y = numeric_cars['price']\n",
    "\n",
    "# Train test split\n",
    "X_train, X_test, y_train, y_test = train_test_split(X, y, test_size=0.5, random_state=42)\n",
    "\n",
    "\n",
    "k_values = [1,3,5,7,9]\n",
    "k_rmse_results={}\n",
    "# Iterate through each feature\n",
    "# Use one feature at a time to train the model\n",
    "for name, col  in train_cols_normalized.iteritems():\n",
    "    k_rmse_results[name] = knn_train(X_train[name].reshape(len(X_train[name]),1),y_train,\n",
    "                                   X_test[name].reshape(len(X_test[name]),1),y_test,\n",
    "                                   k_values)\n",
    "\n",
    "# Create a Series object from the dictionary so \n",
    "# we can easily view the results, sort, etc    \n",
    "k_rmse_results"
   ]
  },
  {
   "cell_type": "markdown",
   "metadata": {},
   "source": [
    "## Visualize Single feature and Different K values"
   ]
  },
  {
   "cell_type": "code",
   "execution_count": 157,
   "metadata": {
    "collapsed": false
   },
   "outputs": [
    {
     "data": {
      "text/plain": [
       "([<matplotlib.axis.XTick at 0x7f99c7b33080>,\n",
       "  <matplotlib.axis.XTick at 0x7f99c82fcba8>,\n",
       "  <matplotlib.axis.XTick at 0x7f99c843dd68>,\n",
       "  <matplotlib.axis.XTick at 0x7f99c8384780>,\n",
       "  <matplotlib.axis.XTick at 0x7f99c83dc9b0>],\n",
       " <a list of 5 Text xticklabel objects>)"
      ]
     },
     "execution_count": 157,
     "metadata": {},
     "output_type": "execute_result"
    },
    {
     "data": {
      "image/png": "[encoded data removed]",
      "text/plain": [
       "<matplotlib.figure.Figure at 0x7f99c7b56e80>"
      ]
     },
     "metadata": {},
     "output_type": "display_data"
    }
   ],
   "source": [
    "import matplotlib.pyplot as plt\n",
    "%matplotlib inline\n",
    "k_rmse_results_frame = pd.DataFrame()\n",
    "for k,v in k_rmse_results.items():\n",
    "    k_rmse_results_frame[k] = v.values()\n",
    "k_rmse_results_frame.plot()\n",
    "plt.legend(loc='center left', bbox_to_anchor=(1.05, 0.5))\n",
    "plt.xticks([0,1,2,3,4],k_values)"
   ]
  },
  {
   "cell_type": "code",
   "execution_count": 158,
   "metadata": {
    "collapsed": false
   },
   "outputs": [
    {
     "data": {
      "text/plain": [
       "horsepower           4441.204616\n",
       "width                4982.565440\n",
       "curb-weight          5011.083928\n",
       "city-mpg             5104.155460\n",
       "highway-mpg          5221.098744\n",
       "length               5608.966452\n",
       "wheel-base           6359.093656\n",
       "bore                 7779.211692\n",
       "compression-rate     7801.441322\n",
       "stroke               7806.386238\n",
       "normalized-losses    7980.527268\n",
       "height               8153.845392\n",
       "peak-rpm             8193.786820\n",
       "dtype: float64"
      ]
     },
     "execution_count": 158,
     "metadata": {},
     "output_type": "execute_result"
    }
   ],
   "source": [
    "k_rmse_results_frame.mean().sort_values()"
   ]
  },
  {
   "cell_type": "markdown",
   "metadata": {},
   "source": [
    "## Select Mutiple Features"
   ]
  },
  {
   "cell_type": "code",
   "execution_count": 168,
   "metadata": {
    "collapsed": false
   },
   "outputs": [
    {
     "data": {
      "text/plain": [
       "{'Five_best_features': {5: 3420.804339321498},\n",
       " 'Four_best_features': {5: 3623.5358151347637},\n",
       " 'Six_best_features': {5: 3395.7444491540277},\n",
       " 'Three_best_features': {5: 3885.2359604681474},\n",
       " 'two_best_features': {5: 3735.6514483241526}}"
      ]
     },
     "execution_count": 168,
     "metadata": {},
     "output_type": "execute_result"
    }
   ],
   "source": [
    "def knn_train (X_train,y_train,X_test,y_test,k_values):\n",
    "    k_rmses = {}\n",
    "    \n",
    "    for k in k_values:\n",
    "        knn = KNeighborsRegressor(n_neighbors=k)\n",
    "        knn.fit(X_train,y_train)\n",
    "        prediction = knn.predict(X_test)\n",
    "        mse = mean_squared_error(y_test, prediction)\n",
    "        k_rmses[k] = np.sqrt(mse)\n",
    "    return k_rmses\n",
    "\n",
    "k_values = [5]\n",
    "\n",
    "k_rmse_results = {}\n",
    "features = ['horsepower', 'width']\n",
    "k_rmse_results[\"two_best_features\"] = knn_train(X_train[features],y_train,\n",
    "                                 X_test[features],y_test,\n",
    "                                 k_values)\n",
    "\n",
    "features = ['horsepower', 'width', 'curb-weight']\n",
    "k_rmse_results[\"Three_best_features\"] = knn_train(X_train[features],y_train,\n",
    "                                 X_test[features],y_test,\n",
    "                                 k_values)\n",
    "\n",
    "features = ['horsepower', 'width', 'curb-weight', 'city-mpg']\n",
    "k_rmse_results[\"Four_best_features\"] = knn_train(X_train[features],y_train,\n",
    "                                 X_test[features],y_test,\n",
    "                                 k_values)\n",
    "\n",
    "features = ['horsepower', 'width', 'curb-weight', 'city-mpg','highway-mpg']\n",
    "k_rmse_results[\"Five_best_features\"] = knn_train(X_train[features],y_train,\n",
    "                                 X_test[features],y_test,\n",
    "                                 k_values)\n",
    "\n",
    "features = ['horsepower', 'width', 'curb-weight', 'city-mpg','highway-mpg','length']\n",
    "k_rmse_results[\"Six_best_features\"] = knn_train(X_train[features],y_train,\n",
    "                                 X_test[features],y_test,\n",
    "                                 k_values)\n",
    "\n",
    "\n",
    "k_rmse_results"
   ]
  },
  {
   "cell_type": "markdown",
   "metadata": {},
   "source": [
    "## Multiple Features with Different K Values"
   ]
  },
  {
   "cell_type": "code",
   "execution_count": 169,
   "metadata": {
    "collapsed": false
   },
   "outputs": [
    {
     "data": {
      "text/plain": [
       "{'Five_best_features': {1: 4301.752547531996,\n",
       "  2: 3588.137851323303,\n",
       "  3: 3455.8786359353867,\n",
       "  4: 3213.8038433551537,\n",
       "  5: 3420.804339321498,\n",
       "  6: 3734.682596748999,\n",
       "  7: 4012.9261817418364,\n",
       "  8: 4232.554401840817,\n",
       "  9: 4347.7333299011125,\n",
       "  10: 4211.833041033863,\n",
       "  11: 4413.565779756169,\n",
       "  12: 4575.462015729612,\n",
       "  13: 4659.528380858822,\n",
       "  14: 4707.089989368563,\n",
       "  15: 4862.348209149433,\n",
       "  16: 4901.403008140953,\n",
       "  17: 4972.603663882138,\n",
       "  18: 5019.428569207856,\n",
       "  19: 5028.580302667081,\n",
       "  20: 5032.306936787501,\n",
       "  21: 5055.01715771201,\n",
       "  22: 5101.150631013524,\n",
       "  23: 5159.710876976989,\n",
       "  24: 5237.134958108722},\n",
       " 'Four_best_features': {1: 4222.658394991487,\n",
       "  2: 3506.954430658156,\n",
       "  3: 3364.4227615078066,\n",
       "  4: 3574.5400182685003,\n",
       "  5: 3623.5358151347637,\n",
       "  6: 3546.252504765807,\n",
       "  7: 3790.098545345621,\n",
       "  8: 3903.7256867004567,\n",
       "  9: 4067.415405412361,\n",
       "  10: 4229.465608310486,\n",
       "  11: 4247.20263799355,\n",
       "  12: 4402.362119697594,\n",
       "  13: 4471.066657083377,\n",
       "  14: 4616.651842597046,\n",
       "  15: 4727.643158499106,\n",
       "  16: 4870.203892205676,\n",
       "  17: 4975.695590577547,\n",
       "  18: 5029.005626339132,\n",
       "  19: 5052.882122566187,\n",
       "  20: 5060.140833563334,\n",
       "  21: 5091.376810202328,\n",
       "  22: 5123.517418012089,\n",
       "  23: 5169.825095882827,\n",
       "  24: 5229.88290223117},\n",
       " 'Six_best_features': {1: 3765.8949129057632,\n",
       "  2: 3476.913620832803,\n",
       "  3: 3693.2668894667877,\n",
       "  4: 3126.274457547016,\n",
       "  5: 3395.7444491540277,\n",
       "  6: 3760.4331081161463,\n",
       "  7: 4088.418089016841,\n",
       "  8: 4266.866283780565,\n",
       "  9: 4348.727379059504,\n",
       "  10: 4343.336985647222,\n",
       "  11: 4386.328305804369,\n",
       "  12: 4565.832708527928,\n",
       "  13: 4672.422578768357,\n",
       "  14: 4744.988169062206,\n",
       "  15: 4888.709614307777,\n",
       "  16: 4902.79938813217,\n",
       "  17: 4966.3887795021055,\n",
       "  18: 5021.5031171234505,\n",
       "  19: 5013.807574998405,\n",
       "  20: 5017.995374698451,\n",
       "  21: 5043.085842938349,\n",
       "  22: 5086.478209473024,\n",
       "  23: 5152.228746930534,\n",
       "  24: 5221.595440893864},\n",
       " 'Three_best_features': {1: 4237.482040033204,\n",
       "  2: 3642.1661670788526,\n",
       "  3: 3740.103547597937,\n",
       "  4: 3996.9941167930456,\n",
       "  5: 3885.2359604681474,\n",
       "  6: 3892.351317080404,\n",
       "  7: 3867.9157572931017,\n",
       "  8: 4080.6517716154267,\n",
       "  9: 4210.572591157894,\n",
       "  10: 4197.518181457152,\n",
       "  11: 4282.305911659927,\n",
       "  12: 4440.683843362379,\n",
       "  13: 4497.972650385755,\n",
       "  14: 4669.917835710964,\n",
       "  15: 4765.376209834238,\n",
       "  16: 4872.816136944137,\n",
       "  17: 4992.169102944432,\n",
       "  18: 5009.88170892996,\n",
       "  19: 4993.240882081133,\n",
       "  20: 5037.509531698719,\n",
       "  21: 5054.063829834769,\n",
       "  22: 5141.235712304612,\n",
       "  23: 5177.071264268164,\n",
       "  24: 5239.05875189096},\n",
       " 'two_best_features': {1: 3799.7421603509515,\n",
       "  2: 4133.617508063645,\n",
       "  3: 3900.079773097424,\n",
       "  4: 3741.9873356676435,\n",
       "  5: 3735.6514483241526,\n",
       "  6: 3946.9757784827602,\n",
       "  7: 4242.565550036062,\n",
       "  8: 4536.514816949895,\n",
       "  9: 4745.296003786243,\n",
       "  10: 4852.295003459091,\n",
       "  11: 4993.399373841954,\n",
       "  12: 5107.00566279941,\n",
       "  13: 5204.246943961713,\n",
       "  14: 5275.939992001601,\n",
       "  15: 5411.269439444928,\n",
       "  16: 5512.318270087833,\n",
       "  17: 5583.0625866713,\n",
       "  18: 5573.291716965898,\n",
       "  19: 5579.1626964797,\n",
       "  20: 5553.5511389556,\n",
       "  21: 5593.259804744571,\n",
       "  22: 5669.9855311446845,\n",
       "  23: 5756.223545906911,\n",
       "  24: 5775.473514140151}}"
      ]
     },
     "execution_count": 169,
     "metadata": {},
     "output_type": "execute_result"
    }
   ],
   "source": [
    "def knn_train (X_train,y_train,X_test,y_test,k_values):\n",
    "    k_rmses = {}\n",
    "    \n",
    "    for k in k_values:\n",
    "        knn = KNeighborsRegressor(n_neighbors=k)\n",
    "        knn.fit(X_train,y_train)\n",
    "        prediction = knn.predict(X_test)\n",
    "        mse = mean_squared_error(y_test, prediction)\n",
    "        k_rmses[k] = np.sqrt(mse)\n",
    "    return k_rmses\n",
    "\n",
    "k_values = [i for i in range(1, 25)]\n",
    "\n",
    "k_rmse_results = {}\n",
    "features = ['horsepower', 'width']\n",
    "k_rmse_results[\"two_best_features\"] = knn_train(X_train[features],y_train,\n",
    "                                 X_test[features],y_test,\n",
    "                                 k_values)\n",
    "\n",
    "features = ['horsepower', 'width', 'curb-weight']\n",
    "k_rmse_results[\"Three_best_features\"] = knn_train(X_train[features],y_train,\n",
    "                                 X_test[features],y_test,\n",
    "                                 k_values)\n",
    "\n",
    "features = ['horsepower', 'width', 'curb-weight', 'city-mpg']\n",
    "k_rmse_results[\"Four_best_features\"] = knn_train(X_train[features],y_train,\n",
    "                                 X_test[features],y_test,\n",
    "                                 k_values)\n",
    "\n",
    "features = ['horsepower', 'width', 'curb-weight', 'city-mpg','highway-mpg']\n",
    "k_rmse_results[\"Five_best_features\"] = knn_train(X_train[features],y_train,\n",
    "                                 X_test[features],y_test,\n",
    "                                 k_values)\n",
    "\n",
    "features = ['horsepower', 'width', 'curb-weight', 'city-mpg','highway-mpg','length']\n",
    "k_rmse_results[\"Six_best_features\"] = knn_train(X_train[features],y_train,\n",
    "                                 X_test[features],y_test,\n",
    "                                 k_values)\n",
    "\n",
    "\n",
    "k_rmse_results"
   ]
  },
  {
   "cell_type": "code",
   "execution_count": 172,
   "metadata": {
    "collapsed": false
   },
   "outputs": [
    {
     "data": {
      "text/plain": [
       "<matplotlib.text.Text at 0x7f99c7a225c0>"
      ]
     },
     "execution_count": 172,
     "metadata": {},
     "output_type": "execute_result"
    },
    {
     "data": {
      "image/png": "[encoded data removed]",
      "text/plain": [
       "<matplotlib.figure.Figure at 0x7f99c79a29b0>"
      ]
     },
     "metadata": {},
     "output_type": "display_data"
    }
   ],
   "source": [
    "k_rmse_results_frame = pd.DataFrame()\n",
    "for k,v in k_rmse_results.items():\n",
    "    k_rmse_results_frame[k] = v.values()\n",
    "k_rmse_results_frame.plot()\n",
    "plt.legend(loc='center left', bbox_to_anchor=(1.05, 0.5))\n",
    "plt.xlabel('k value')\n",
    "plt.ylabel('RMSE')"
   ]
  },
  {
   "cell_type": "markdown",
   "metadata": {},
   "source": [
    "## Conclusion\n",
    "\n",
    "This project skip the step of model selection which is to decide which model is best for a given data set and this can play a huge part depanding on data set. \n",
    "\n",
    "Overall, this project demostrate a basic workflow of a machine learning project. Data Cleaning, Feature Selection, and Hyperparameter tuning.  "
   ]
  },
  {
   "cell_type": "code",
   "execution_count": null,
   "metadata": {
    "collapsed": true
   },
   "outputs": [],
   "source": []
  }
 ],
 "metadata": {
  "kernelspec": {
   "display_name": "Python 3",
   "language": "python",
   "name": "python3"
  },
  "language_info": {
   "codemirror_mode": {
    "name": "ipython",
    "version": 3
   },
   "file_extension": ".py",
   "mimetype": "text/x-python",
   "name": "python",
   "nbconvert_exporter": "python",
   "pygments_lexer": "ipython3",
   "version": "3.4.3"
  }
 },
 "nbformat": 4,
 "nbformat_minor": 2
}
